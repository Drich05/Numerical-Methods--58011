{
  "nbformat": 4,
  "nbformat_minor": 0,
  "metadata": {
    "colab": {
      "name": "Domingo_Numerical methods Finals_58011",
      "provenance": [],
      "authorship_tag": "ABX9TyM8LMNol0ahJO66+gfQSpRf",
      "include_colab_link": true
    },
    "kernelspec": {
      "name": "python3",
      "display_name": "Python 3"
    },
    "language_info": {
      "name": "python"
    }
  },
  "cells": [
    {
      "cell_type": "markdown",
      "metadata": {
        "id": "view-in-github",
        "colab_type": "text"
      },
      "source": [
        "<a href=\"https://colab.research.google.com/github/Drich05/Numerical-Methods--58011/blob/main/Domingo_Numerical_methods_Finals_58011.ipynb\" target=\"_parent\"><img src=\"https://colab.research.google.com/assets/colab-badge.svg\" alt=\"Open In Colab\"/></a>"
      ]
    },
    {
      "cell_type": "code",
      "execution_count": 1,
      "metadata": {
        "colab": {
          "base_uri": "https://localhost:8080/"
        },
        "id": "E73tH2kgrEb5",
        "outputId": "873e0fd7-7394-4921-f1a8-49048d6fdfbd"
      },
      "outputs": [
        {
          "output_type": "stream",
          "name": "stdout",
          "text": [
            "Integral = 2.1731\n"
          ]
        }
      ],
      "source": [
        "from math import exp\n",
        "def f(x): return exp(x) #define the trigonometric function\n",
        "\n",
        "a = -1\n",
        "b = 1\n",
        "n = 10\n",
        "h = (b-a)/n     #Width of the trapezoid\n",
        "S = h * (f(a)+f(b))     #Value of Summation\n",
        "\n",
        "for i in range (1,n):\n",
        "    S += f(a+i*h)\n",
        "Integral = S*h\n",
        "print ('Integral = %0.4f' %Integral)"
      ]
    }
  ]
}